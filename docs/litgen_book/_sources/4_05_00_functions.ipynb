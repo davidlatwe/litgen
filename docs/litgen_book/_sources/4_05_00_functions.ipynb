{
 "cells": [
  {
   "cell_type": "markdown",
   "metadata": {},
   "source": [
    "# Functions"
   ]
  },
  {
   "cell_type": "markdown",
   "metadata": {},
   "source": [
    "There are numerous generations options that can be set in order to change function bindings options.\n",
    "\n",
    "See [options.py]([../options.py](https://github.com/pthom/srcmlcpp/blob/main/packages/litgen/options.py)), all the function related options begin wth `fn_` or `fn_params` (when they deal with function parameters)\n",
    "\n",
    "Below is an extract from the related options:\n",
    "\n",
    "```python\n",
    "    ################################################################################\n",
    "    #    <functions and method adaptations>\n",
    "    ################################################################################\n",
    "\n",
    "    # Exclude certain functions and methods by a regex on their name\n",
    "    fn_exclude_by_name__regex: str = \"\"\n",
    "\n",
    "    # Exclude certain functions and methods by a regex on any of their parameter type and/or return type\n",
    "    # (those should be decorated type)\n",
    "    # For example:\n",
    "    #     options.fn_exclude_by_param_type__regex = \"^char\\s*$|^unsigned\\s+char$|Callback$\"\n",
    "    # would exclude all functions having params of type \"char *\", \"unsigned char\", \"xxxCallback\"\n",
    "    #\n",
    "    # Note: this is distinct from `fn_params_exclude_types__regex` which removes params\n",
    "    # from the function signature, but not the function itself.\n",
    "    fn_exclude_by_param_type__regex: str = \"\"\n",
    "\n",
    "    # ------------------------------------------------------------------------------\n",
    "    # Exclude some params by name or type\n",
    "    # ------------------------------------------------------------------------------\n",
    "    # Remove some params from the python published interface. A param can only be removed if it has a default value\n",
    "    # in the C++ signature\n",
    "    fn_params_exclude_names__regex: str = \"\"\n",
    "    fn_params_exclude_types__regex: str = \"\"\n",
    "\n",
    "    ...  Lots of other options...\n",
    "```"
   ]
  },
  {
   "cell_type": "code",
   "execution_count": null,
   "metadata": {},
   "outputs": [],
   "source": []
  }
 ],
 "metadata": {
  "kernelspec": {
   "display_name": "venv311",
   "language": "python",
   "name": "python3"
  },
  "language_info": {
   "codemirror_mode": {
    "name": "ipython",
    "version": 3
   },
   "file_extension": ".py",
   "mimetype": "text/x-python",
   "name": "python",
   "nbconvert_exporter": "python",
   "pygments_lexer": "ipython3",
   "version": "3.11.3"
  }
 },
 "nbformat": 4,
 "nbformat_minor": 2
}

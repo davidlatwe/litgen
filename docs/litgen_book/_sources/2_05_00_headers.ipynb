{
 "cells": [
  {
   "cell_type": "markdown",
   "metadata": {},
   "source": [
    "# Headers processing"
   ]
  },
  {
   "cell_type": "code",
   "execution_count": null,
   "metadata": {},
   "outputs": [],
   "source": [
    "_EXAMPLE_HEADER_FILE = \"\"\"\n",
    "#ifndef MY_HEADER_H   // This ifndef should be removed, as well as this comment\n",
    "// We are in the main header, and this comment should be included (the previous ifndef was just an inclusion guard)\n",
    "\n",
    "void Foo() {}     // This function and this comment should be included\n",
    "\n",
    "#ifdef SOME_OPTION\n",
    "// We are probably entering a zone that handle arcane options and should not be included in the bindings\n",
    "void Foo2() {}    // this should be ignored\n",
    "#else\n",
    "void Foo3() {}    // this should be ignored also\n",
    "#endif // #ifdef SOME_OPTION  <- this comment should be removed (on same line as an ifdef/endif)\n",
    "\n",
    "#ifndef WIN32\n",
    "// We are also probably entering a zone that handle arcane options and should not be included in the bindings\n",
    "void Foo4() {}\n",
    "#endif\n",
    "\n",
    "#ifdef SOME_OPTION_ACCEPTED\n",
    "// We are entering a zone which we want to accept if we add \"ACCEPTED$\" to options.header_acceptable__regex\n",
    "void FooAccepted();\n",
    "#endif\n",
    "\n",
    "#endif // #ifndef MY_HEADER_H\n",
    "    \"\"\"\n",
    "\n",
    "_EXPECTED_FILTERED_HEADER = \"\"\"\n",
    "#ifndef MY_HEADER_H   // We are in the main header, and this comment should be included (the previous ifndef was just an inclusion guard)\n",
    "\n",
    "void Foo() {}     // This function and this comment should be included\n",
    "\n",
    "#ifdef SOME_OPTION_ACCEPTED\n",
    "// We are entering a zone which we want to accept if we add \"ACCEPTED$\" to options.header_acceptable__regex\n",
    "void FooAccepted();\n",
    "#endif\n",
    "\n",
    "#endif\n",
    "\"\"\""
   ]
  }
 ],
 "metadata": {
  "language_info": {
   "name": "python"
  }
 },
 "nbformat": 4,
 "nbformat_minor": 2
}

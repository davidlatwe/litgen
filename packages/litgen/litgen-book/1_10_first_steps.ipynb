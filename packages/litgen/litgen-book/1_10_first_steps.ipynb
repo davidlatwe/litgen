{
 "cells": [
  {
   "cell_type": "markdown",
   "id": "7f9dfa0e",
   "metadata": {
    "code_folding": []
   },
   "source": [
    "# First steps"
   ]
  },
  {
   "cell_type": "markdown",
   "metadata": {},
   "source": [
    "Using litgen is straightforward. The simplest use case is:\n",
    "\n",
    "1. import litgen\n",
    "2. instantiate some options (there are lots of options: see [full list](https://github.com/pthom/srcmlcpp/blob/main/packages/litgen/options.py). More details later in this manual)\n",
    "3. convert some code into C++ binding code and python declarations (stubs)\n",
    "4. copy and paste the generated codes into your project\n"
   ]
  },
  {
   "cell_type": "code",
   "execution_count": 18,
   "id": "60270e1e",
   "metadata": {},
   "outputs": [],
   "source": [
    "# Import litgen\n",
    "import litgen\n",
    "\n",
    "# Instantiate some options\n",
    "options = litgen.LitgenOptions()\n",
    "# Code for which bindings will be emitted\n",
    "cpp_code = \"\"\"\n",
    "// Adds two integers\n",
    "int add(int x, int y = 2);\n",
    "\"\"\"\n",
    "# Run the generator\n",
    "generated_code = litgen.generate_code(options, cpp_code)"
   ]
  },
  {
   "cell_type": "markdown",
   "metadata": {},
   "source": [
    "The generated code contains several elements:\n",
    "- `stub_code` contains the python declarations. They enable to have a flawless code navigation and completion inside IDEs.\n",
    "- `pydef_code` contains the C++ binding code. This code is specific to pybind11\n",
    "- `glue_code`: optional additional C++ code that is emitted in speficic advanced cases (more details later in this manual). Most of the time, it will be empty\n",
    "\n",
    "Let's see the python declarations corresponding to the C++ code. They include the comments that were found in the C++ code."
   ]
  },
  {
   "cell_type": "code",
   "execution_count": 15,
   "id": "f02211e0",
   "metadata": {},
   "outputs": [
    {
     "name": "stdout",
     "output_type": "stream",
     "text": [
      "\n",
      "def add(x: int, y: int = 2) -> int:\n",
      "    \"\"\" Adds two integers\"\"\"\n",
      "    pass\n",
      "\n"
     ]
    }
   ],
   "source": [
    "print(generated_code.stub_code)"
   ]
  },
  {
   "cell_type": "markdown",
   "metadata": {},
   "source": [
    "Let's see the C++ binding code:"
   ]
  },
  {
   "cell_type": "code",
   "execution_count": 10,
   "metadata": {},
   "outputs": [
    {
     "name": "stdout",
     "output_type": "stream",
     "text": [
      "m.def(\"add\",\n",
      "    add, \n",
      "    py::arg(\"x\"), py::arg(\"y\") = 2, \n",
      "    \"Adds two integers\");\n",
      "\n"
     ]
    }
   ],
   "source": [
    "print(generated_code.pydef_code)"
   ]
  },
  {
   "cell_type": "markdown",
   "metadata": {},
   "source": [
    "In this case, the glue code is empty:"
   ]
  },
  {
   "cell_type": "code",
   "execution_count": 13,
   "metadata": {},
   "outputs": [
    {
     "name": "stdout",
     "output_type": "stream",
     "text": [
      "\n"
     ]
    }
   ],
   "source": [
    "print(generated_code.glue_code)"
   ]
  },
  {
   "cell_type": "code",
   "execution_count": null,
   "metadata": {},
   "outputs": [],
   "source": []
  }
 ],
 "metadata": {
  "kernelspec": {
   "display_name": "Python 3 (ipykernel)",
   "language": "python",
   "name": "python3"
  },
  "language_info": {
   "codemirror_mode": {
    "name": "ipython",
    "version": 3
   },
   "file_extension": ".py",
   "mimetype": "text/x-python",
   "name": "python",
   "nbconvert_exporter": "python",
   "pygments_lexer": "ipython3",
   "version": "3.11.3"
  },
  "toc": {
   "base_numbering": 1,
   "nav_menu": {},
   "number_sections": true,
   "sideBar": true,
   "skip_h1_title": false,
   "title_cell": "Table of Contents",
   "title_sidebar": "Contents",
   "toc_cell": false,
   "toc_position": {},
   "toc_section_display": true,
   "toc_window_display": false
  },
  "varInspector": {
   "cols": {
    "lenName": 16,
    "lenType": 16,
    "lenVar": 40
   },
   "kernels_config": {
    "python": {
     "delete_cmd_postfix": "",
     "delete_cmd_prefix": "del ",
     "library": "var_list.py",
     "varRefreshCmd": "print(var_dic_list())"
    },
    "r": {
     "delete_cmd_postfix": ") ",
     "delete_cmd_prefix": "rm(",
     "library": "var_list.r",
     "varRefreshCmd": "cat(var_dic_list()) "
    }
   },
   "types_to_exclude": [
    "module",
    "function",
    "builtin_function_or_method",
    "instance",
    "_Feature"
   ],
   "window_display": false
  }
 },
 "nbformat": 4,
 "nbformat_minor": 5
}
